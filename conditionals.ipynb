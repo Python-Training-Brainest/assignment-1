{
 "cells": [
  {
   "cell_type": "markdown",
   "metadata": {},
   "source": [
    "1. Write a program that prompts the user for a string and checks whether the string is a palindrome (i.e., the string reads the same forward and backward)."
   ]
  },
  {
   "cell_type": "code",
   "execution_count": 24,
   "metadata": {},
   "outputs": [
    {
     "name": "stdout",
     "output_type": "stream",
     "text": [
      "Enter a string: asdf\n",
      "It is not a palindrome.\n"
     ]
    }
   ],
   "source": [
    "phrase = input(\"Enter a string: \")\n",
    "if phrase == \"\":\n",
    "    print(\"Empty strings are palindromes!\")\n",
    "else:\n",
    "    for i in range(len(phrase) // 2):\n",
    "        e = i + 1\n",
    "        if phrase[i] != phrase[-e]:\n",
    "            print(\"It is not a palindrome.\")\n",
    "            palindrome = False\n",
    "            break\n",
    "        else:\n",
    "            palindrome = True\n",
    "\n",
    "    if palindrome == True:\n",
    "        print(f\"'{phrase}' is a palindrome!\")"
   ]
  },
  {
   "cell_type": "markdown",
   "metadata": {},
   "source": [
    "2. Write a program that takes in a list of integers and returns the sum of all even numbers in the list."
   ]
  },
  {
   "cell_type": "code",
   "execution_count": 19,
   "metadata": {},
   "outputs": [
    {
     "name": "stdout",
     "output_type": "stream",
     "text": [
      "Enter a list of integers separated by spaces: asdfasdf\n",
      "It looks like you didn't enter ints...\n"
     ]
    }
   ],
   "source": [
    "try:\n",
    "    ints = [int(x) for x in input(\"Enter a list of integers separated by spaces: \").split()]\n",
    "    even_ints = [i for i in ints if i % 2 == 0]\n",
    "    print(sum(even_ints))\n",
    "except ValueError:\n",
    "    print(\"It looks like you didn't enter ints...\")"
   ]
  },
  {
   "cell_type": "markdown",
   "metadata": {},
   "source": [
    "3. Write a program that prompts the user for their age and checks whether they are old enough to vote (i.e., 18 years old or older)."
   ]
  },
  {
   "cell_type": "code",
   "execution_count": 21,
   "metadata": {},
   "outputs": [
    {
     "name": "stdout",
     "output_type": "stream",
     "text": [
      "Enter your age: -123\n",
      "It looks like you didn't enter an age...\n"
     ]
    }
   ],
   "source": [
    "try:\n",
    "    age = int(input(\"Enter your age: \"))\n",
    "    if 0 < age < 18:\n",
    "        print(age)\n",
    "        print(\"You are too young to vote.\")\n",
    "    elif 17 < age < 119:\n",
    "        print(\"You can vote.\")\n",
    "    else:\n",
    "        print(\"It looks like you didn't enter an age...\")\n",
    "except ValueError:\n",
    "    print(\"It looks like you didn't enter an age...\")"
   ]
  },
  {
   "cell_type": "markdown",
   "metadata": {},
   "source": [
    "4. Write a program that takes in a list of integers and returns the largest number in the list that is also divisible by 3."
   ]
  },
  {
   "cell_type": "code",
   "execution_count": 22,
   "metadata": {},
   "outputs": [
    {
     "name": "stdout",
     "output_type": "stream",
     "text": [
      "Enter a list of integers separated by spaces: 12 30 90\n",
      "90\n"
     ]
    }
   ],
   "source": [
    "try:\n",
    "    ints = [int(x) for x in input(\"Enter a list of integers separated by spaces: \").split()]\n",
    "    divisible_ints = [i for i in ints if i % 3 == 0]\n",
    "    print(max(divisible_ints))\n",
    "except ValueError:\n",
    "    print(\"It looks like you didn't enter ints...\")"
   ]
  },
  {
   "cell_type": "markdown",
   "metadata": {},
   "source": [
    "5. Write a program that prompts the user for a number and checks whether the number is a prime number (i.e., only divisible by 1 and itself)."
   ]
  },
  {
   "cell_type": "code",
   "execution_count": 28,
   "metadata": {},
   "outputs": [
    {
     "name": "stdout",
     "output_type": "stream",
     "text": [
      "Enter an integer: -123\n",
      "It looks like you didn't enter an integer...\n"
     ]
    }
   ],
   "source": [
    "import math\n",
    "try:\n",
    "    number = int(input(\"Enter an integer: \"))\n",
    "    if number % 2 == 0:\n",
    "        print(f'{number} is divisible by 2')\n",
    "    elif number in (3, 5, 7):\n",
    "        print(f'{number} is prime!')\n",
    "    else:\n",
    "        root = int(math.sqrt(number))\n",
    "        divisors = [x for x in range(2, root + 1) if x % 2 != 0]\n",
    "\n",
    "        is_prime = False\n",
    "        for d in divisors:\n",
    "            if number % d == 0:\n",
    "                is_prime = False\n",
    "                print(f'{number} is divisible by {d}')\n",
    "                break\n",
    "            else:\n",
    "                is_prime = True\n",
    "\n",
    "        if is_prime == True:\n",
    "            print(f'{number} is prime!')\n",
    "\n",
    "except ValueError:\n",
    "    print(\"It looks like you didn't enter an integer...\")"
   ]
  },
  {
   "cell_type": "code",
   "execution_count": null,
   "metadata": {},
   "outputs": [],
   "source": []
  }
 ],
 "metadata": {
  "kernelspec": {
   "display_name": "Python 3 (ipykernel)",
   "language": "python",
   "name": "python3"
  },
  "language_info": {
   "codemirror_mode": {
    "name": "ipython",
    "version": 3
   },
   "file_extension": ".py",
   "mimetype": "text/x-python",
   "name": "python",
   "nbconvert_exporter": "python",
   "pygments_lexer": "ipython3",
   "version": "3.10.6"
  },
  "vscode": {
   "interpreter": {
    "hash": "f7a5be651532581cb44625d52e18aa1d390cab54bc6b51099d8c30bea9b68219"
   }
  }
 },
 "nbformat": 4,
 "nbformat_minor": 2
}
