{
 "cells": [
  {
   "cell_type": "markdown",
   "metadata": {},
   "source": [
    "1. Create a while loop that repeatedly takes user input and adds the input to a list until the user enters \"done\"."
   ]
  },
  {
   "cell_type": "code",
   "execution_count": 4,
   "metadata": {
    "vscode": {
     "languageId": "plaintext"
    }
   },
   "outputs": [
    {
     "name": "stdout",
     "output_type": "stream",
     "text": [
      "Give me input: 23\n",
      "Give me input: df\n",
      "Give me input: 90\n",
      "Give me input: jk\n",
      "Give me input: done\n",
      "Input list: ['23', 'df', '90', 'jk', 'done']\n"
     ]
    }
   ],
   "source": [
    "input_list = []\n",
    "ins = \"\"\n",
    "while ins != \"done\":\n",
    "    ins = input(\"Give me input: \")\n",
    "    input_list.append(ins)\n",
    "    continue\n",
    "print(f\"Input list: {input_list}\")"
   ]
  },
  {
   "cell_type": "markdown",
   "metadata": {},
   "source": [
    "2. Create a while loop that generates random numbers and adds them to a list until the sum of all numbers in the list is greater than 100."
   ]
  },
  {
   "cell_type": "code",
   "execution_count": 5,
   "metadata": {
    "vscode": {
     "languageId": "plaintext"
    }
   },
   "outputs": [
    {
     "name": "stdout",
     "output_type": "stream",
     "text": [
      "Enter a number: 99\n",
      "Enter a number: df\n",
      "Enter numbers only.\n",
      "Enter a number: 1\n",
      "Enter a number: 1\n",
      "Total: 101.0\n"
     ]
    }
   ],
   "source": [
    "numbers = []\n",
    "total = 0\n",
    "while total <= 100:\n",
    "    try:\n",
    "        number = float(input(\"Enter a number: \"))\n",
    "        numbers.append(number)\n",
    "        total = sum(numbers)\n",
    "    except ValueError:\n",
    "        print(\"Enter numbers only.\")\n",
    "print(f\"Total: {total}\")"
   ]
  },
  {
   "cell_type": "markdown",
   "metadata": {},
   "source": [
    "3. Create a while loop that repeatedly takes user input and appends it to a list, but only if the input is a unique string."
   ]
  },
  {
   "cell_type": "code",
   "execution_count": 4,
   "metadata": {
    "vscode": {
     "languageId": "plaintext"
    }
   },
   "outputs": [
    {
     "name": "stdout",
     "output_type": "stream",
     "text": [
      "Enter string: 23o\n",
      "Enter string: 23\n",
      "Enter string: 23\n",
      "Input list: ['23o', '23']\n"
     ]
    }
   ],
   "source": [
    "the_list = []\n",
    "s = \"\"\n",
    "while True:\n",
    "    try:\n",
    "        s = input(\"Enter string: \")\n",
    "        if s not in the_list:\n",
    "            the_list.append(s)\n",
    "    except KeyboardInterrupt:\n",
    "        break\n",
    "print(f\"Input list: {the_list}\")"
   ]
  },
  {
   "cell_type": "markdown",
   "metadata": {},
   "source": [
    "4. Create a while loop that repeatedly takes user input and appends it to a list, but only if the input is a number greater than 10."
   ]
  },
  {
   "cell_type": "code",
   "execution_count": 6,
   "metadata": {
    "vscode": {
     "languageId": "plaintext"
    }
   },
   "outputs": [
    {
     "name": "stdout",
     "output_type": "stream",
     "text": [
      "Enter a number: 99\n",
      "Enter a number: df\n",
      "Enter numbers only.\n",
      "Enter a number: 101\n",
      "Numbers: [101.0]\n"
     ]
    }
   ],
   "source": [
    "numbers = []\n",
    "number = \"\"\n",
    "while True:\n",
    "    try:\n",
    "        number = float(input(\"Enter a number: \"))\n",
    "        if number > 100:\n",
    "            numbers.append(number)\n",
    "    except KeyboardInterrupt:\n",
    "        break\n",
    "    except ValueError:\n",
    "        print(\"Enter numbers only.\")\n",
    "        continue\n",
    "print(f\"Numbers: {numbers}\")"
   ]
  },
  {
   "cell_type": "markdown",
   "metadata": {},
   "source": [
    "5. Create a while loop that repeatedly takes user input and keeps track of the highest number entered until the user enters \"done\"."
   ]
  },
  {
   "cell_type": "code",
   "execution_count": 7,
   "metadata": {
    "vscode": {
     "languageId": "plaintext"
    }
   },
   "outputs": [
    {
     "name": "stdout",
     "output_type": "stream",
     "text": [
      "Enter a number: 23\n",
      "Max is: 23.0\n",
      "Enter a number: 56\n",
      "Max is: 56.0\n",
      "Enter a number: 45\n",
      "Max is: 56.0\n",
      "Enter a number: done\n",
      "Enter numbers only.\n"
     ]
    }
   ],
   "source": [
    "numbers = []\n",
    "number = \"\"\n",
    "while number != \"done\":\n",
    "    number = input(\"Enter a number: \")\n",
    "    try:\n",
    "        n = float(number)\n",
    "        numbers.append(n)\n",
    "        if n >= max(numbers):\n",
    "            print(f\"Max is: {n}\")\n",
    "        else:\n",
    "            print(f\"Max is: {max(numbers)}\")\n",
    "    except ValueError:\n",
    "        print(\"Enter numbers only.\")"
   ]
  }
 ],
 "metadata": {
  "kernelspec": {
   "display_name": "Python 3 (ipykernel)",
   "language": "python",
   "name": "python3"
  },
  "language_info": {
   "codemirror_mode": {
    "name": "ipython",
    "version": 3
   },
   "file_extension": ".py",
   "mimetype": "text/x-python",
   "name": "python",
   "nbconvert_exporter": "python",
   "pygments_lexer": "ipython3",
   "version": "3.10.6"
  }
 },
 "nbformat": 4,
 "nbformat_minor": 2
}
