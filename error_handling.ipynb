{
 "cells": [
  {
   "cell_type": "markdown",
   "metadata": {},
   "source": [
    "1. Write a function that takes a list of integers as an argument, and returns the sum of the integers. Use a try-except block to catch any ValueError exceptions that may be raised when attempting to convert a string to an integer."
   ]
  },
  {
   "cell_type": "code",
   "execution_count": 16,
   "metadata": {},
   "outputs": [
    {
     "name": "stdout",
     "output_type": "stream",
     "text": [
      "6\n",
      "The list should containt numbers only.\n"
     ]
    }
   ],
   "source": [
    "def sum_of_integers(l):\n",
    "    try:\n",
    "        result = 0\n",
    "        for i in l:\n",
    "            result += int(i)\n",
    "    except ValueError:\n",
    "        result = \"The list should containt numbers only.\"\n",
    "\n",
    "    return result\n",
    "\n",
    "\n",
    "print(sum_of_integers(['1', '2', '3']))\n",
    "print(sum_of_integers(['a', '2', '3']))"
   ]
  },
  {
   "cell_type": "markdown",
   "metadata": {},
   "source": [
    "2. Write a function that takes a filename as an argument, and attempts to open the file. Use a try-except block to catch any FileNotFoundError exceptions that may be raised when attempting to open the file. If the file is successfully opened, the function should return the contents of the file."
   ]
  },
  {
   "cell_type": "code",
   "execution_count": 6,
   "metadata": {},
   "outputs": [],
   "source": [
    "def readfile(file):\n",
    "    try:\n",
    "        with open(file, 'r') as f:\n",
    "            return f.readlines()\n",
    "    except FileNotFoundError:\n",
    "        return print(f\"No such file: '{file}'\")"
   ]
  },
  {
   "cell_type": "markdown",
   "metadata": {},
   "source": [
    "3. Write a function that takes a list of strings as an argument, and returns a new list containing only the strings that can be successfully converted to a float. Use a try-except block to catch any ValueError exceptions that may be raised when attempting to convert a string to a float."
   ]
  },
  {
   "cell_type": "code",
   "execution_count": 7,
   "metadata": {},
   "outputs": [
    {
     "data": {
      "text/plain": [
       "[23, '4.0']"
      ]
     },
     "execution_count": 7,
     "metadata": {},
     "output_type": "execute_result"
    }
   ],
   "source": [
    "def is_it_float(l):\n",
    "    for i in l:\n",
    "        try:\n",
    "            float(i)\n",
    "        except ValueError:\n",
    "            l.remove(i)\n",
    "    return l\n",
    "\n",
    "\n",
    "is_it_float(['a', 23, \"4.0\"])"
   ]
  },
  {
   "cell_type": "markdown",
   "metadata": {},
   "source": [
    "4. Write a function that takes a list of dictionaries as an argument, and returns the value of a specified key from each dictionary. Use a try-except block to catch any KeyError exceptions that may be raised when attempting to access a key that does not exist in a dictionary."
   ]
  },
  {
   "cell_type": "code",
   "execution_count": 14,
   "metadata": {},
   "outputs": [
    {
     "name": "stdout",
     "output_type": "stream",
     "text": [
      "[867, 716, 261, 986, -392]\n"
     ]
    }
   ],
   "source": [
    "import random, string\n",
    "\n",
    "\n",
    "def get_values_from_dicts(key, dicts):\n",
    "    values = []\n",
    "    for d in dicts:\n",
    "        try:\n",
    "            values.append(d[key])\n",
    "        except KeyError:\n",
    "            pass\n",
    "    return values\n",
    "\n",
    "\n",
    "dicts = [dict(zip([random.choice(string.ascii_lowercase) for i in range(10)], [random.randint(-1000, 1000) for x in range(10)])) for d in range(10)]\n",
    "print(get_values_from_dicts(dicts=dicts, key='f'))"
   ]
  },
  {
   "cell_type": "markdown",
   "metadata": {},
   "source": [
    "5. Write a function that takes a list of integers as an argument, and returns the largest integer in the list. Use a try-except block to catch any ValueError exceptions that may be raised when attempting to compare elements that are not integers."
   ]
  },
  {
   "cell_type": "code",
   "execution_count": 17,
   "metadata": {},
   "outputs": [
    {
     "name": "stdout",
     "output_type": "stream",
     "text": [
      "3\n",
      "3\n",
      "The list should contain numbers only.\n"
     ]
    }
   ],
   "source": [
    "def get_largest(numbers):\n",
    "    try:\n",
    "        result = int(numbers[0])\n",
    "        for i in range(1, len(numbers)):\n",
    "            if int(numbers[i]) > result:\n",
    "                result = numbers[i]\n",
    "\n",
    "    except ValueError:\n",
    "        result = \"The list should contain numbers only.\"\n",
    "\n",
    "    return result\n",
    "\n",
    "\n",
    "print(get_largest([1, 2, 3]))\n",
    "print(get_largest(['1', 2, 3]))\n",
    "print(get_largest(['a', 2, 3]))"
   ]
  }
 ],
 "metadata": {
  "kernelspec": {
   "display_name": "Python 3 (ipykernel)",
   "language": "python",
   "name": "python3"
  },
  "language_info": {
   "codemirror_mode": {
    "name": "ipython",
    "version": 3
   },
   "file_extension": ".py",
   "mimetype": "text/x-python",
   "name": "python",
   "nbconvert_exporter": "python",
   "pygments_lexer": "ipython3",
   "version": "3.10.6"
  },
  "vscode": {
   "interpreter": {
    "hash": "f7a5be651532581cb44625d52e18aa1d390cab54bc6b51099d8c30bea9b68219"
   }
  }
 },
 "nbformat": 4,
 "nbformat_minor": 2
}
