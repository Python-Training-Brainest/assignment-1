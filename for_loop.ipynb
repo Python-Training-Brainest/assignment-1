{
 "cells": [
  {
   "cell_type": "markdown",
   "metadata": {},
   "source": [
    "1. Create a for loop that iterates through a list of strings and prints each string in uppercase."
   ]
  },
  {
   "cell_type": "code",
   "execution_count": 2,
   "metadata": {},
   "outputs": [
    {
     "name": "stdout",
     "output_type": "stream",
     "text": [
      "DWJNMIKDHF\n",
      "DJRCQNSKFX\n",
      "ZFKFTTHHGF\n",
      "IWNYYPRGUM\n",
      "NSULVIGQKK\n",
      "GHBEEQYNDZ\n",
      "LCFJZNNYAH\n",
      "PRRUEROHCL\n",
      "JLYDNXJZDI\n",
      "HEJSKBLRDP\n"
     ]
    }
   ],
   "source": [
    "import random, string\n",
    "list_of_strings = [''.join(random.choice(string.ascii_lowercase) for i in range(10)) for x in range(10)]\n",
    "for s in list_of_strings:\n",
    "     print(s.upper())"
   ]
  },
  {
   "cell_type": "markdown",
   "metadata": {},
   "source": [
    "2. Create a for loop that iterates through a list of numbers and prints the square of each number."
   ]
  },
  {
   "cell_type": "code",
   "execution_count": 3,
   "metadata": {},
   "outputs": [
    {
     "name": "stdout",
     "output_type": "stream",
     "text": [
      "-814² = 662596\n",
      "388² = 150544\n",
      "-252² = 63504\n",
      "963² = 927369\n",
      "594² = 352836\n",
      "922² = 850084\n",
      "304² = 92416\n",
      "740² = 547600\n",
      "-966² = 933156\n",
      "115² = 13225\n"
     ]
    }
   ],
   "source": [
    "import random\n",
    "list_of_numbers = [random.randint(-1000, 1000) for x in range(10)]\n",
    "for x in list_of_numbers:\n",
    "     print(f\"{x}² = {x**2}\")"
   ]
  },
  {
   "cell_type": "markdown",
   "metadata": {},
   "source": [
    "3. Create a for loop that iterates through a list of dictionaries and prints the value of a specified key for each dictionary."
   ]
  },
  {
   "cell_type": "code",
   "execution_count": 5,
   "metadata": {},
   "outputs": [
    {
     "name": "stdout",
     "output_type": "stream",
     "text": [
      "In dictionary 2 'f': -597\n",
      "In dictionary 6 'f': 777\n",
      "In dictionary 8 'f': 407\n"
     ]
    }
   ],
   "source": [
    "import random, string\n",
    "dicts = [dict(zip([random.choice(string.ascii_lowercase) for i in range(10)], [random.randint(-1000, 1000) for x in range(10)])) for d in range(10)]\n",
    "for d in dicts:\n",
    "    if 'f' in d.keys():\n",
    "        print(f\"In dictionary {dicts.index(d)} 'f': {d['f']}\")"
   ]
  },
  {
   "cell_type": "markdown",
   "metadata": {},
   "source": [
    "4. Create a for loop that iterates through a list of numbers and prints the largest number in the list."
   ]
  },
  {
   "cell_type": "code",
   "execution_count": 12,
   "metadata": {},
   "outputs": [
    {
     "name": "stdout",
     "output_type": "stream",
     "text": [
      "[-774, -607, 777, 924, -934, -149, 706, -96, 397, 903]\n",
      "924\n"
     ]
    }
   ],
   "source": [
    "import random\n",
    "\n",
    "numbers = [random.randint(-1000, 1000) for x in range(10)]\n",
    "\n",
    "result = numbers[0]\n",
    "for i in range(1, len(numbers)):\n",
    "    if numbers[i] > result:\n",
    "        result = numbers[i]\n",
    "print(numbers)\n",
    "print(result)"
   ]
  },
  {
   "cell_type": "markdown",
   "metadata": {},
   "source": [
    "5. Create a for loop that iterates through a list of lists and prints the sum of the elements in each sub-list."
   ]
  },
  {
   "cell_type": "code",
   "execution_count": 13,
   "metadata": {},
   "outputs": [
    {
     "name": "stdout",
     "output_type": "stream",
     "text": [
      "-255\n",
      "-2554\n",
      "-889\n",
      "3128\n",
      "-1920\n",
      "1757\n",
      "-343\n",
      "489\n",
      "-1778\n",
      "1148\n"
     ]
    }
   ],
   "source": [
    "lists = [[random.randint(-1000, 1000) for i in range(10)] for l in range(10)]\n",
    "for l in lists:\n",
    "    print(sum(l))"
   ]
  }
 ],
 "metadata": {
  "kernelspec": {
   "display_name": "Python 3 (ipykernel)",
   "language": "python",
   "name": "python3"
  },
  "language_info": {
   "codemirror_mode": {
    "name": "ipython",
    "version": 3
   },
   "file_extension": ".py",
   "mimetype": "text/x-python",
   "name": "python",
   "nbconvert_exporter": "python",
   "pygments_lexer": "ipython3",
   "version": "3.10.6"
  }
 },
 "nbformat": 4,
 "nbformat_minor": 2
}
